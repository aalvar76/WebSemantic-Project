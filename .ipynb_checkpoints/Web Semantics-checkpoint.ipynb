{
 "cells": [
  {
   "cell_type": "markdown",
   "metadata": {},
   "source": [
    "# Import Libraries"
   ]
  },
  {
   "cell_type": "code",
   "execution_count": 128,
   "metadata": {},
   "outputs": [],
   "source": [
    "from web3 import Web3 "
   ]
  },
  {
   "cell_type": "markdown",
   "metadata": {},
   "source": [
    "# Initialize web3 api to get information from Ethereum blockchain"
   ]
  },
  {
   "cell_type": "code",
   "execution_count": 129,
   "metadata": {},
   "outputs": [],
   "source": [
    "web3 = Web3(Web3.HTTPProvider(\"https://mainnet.infura.io/v3/341dcb557aa64fdbbb22b163f2697430\"))"
   ]
  },
  {
   "cell_type": "markdown",
   "metadata": {},
   "source": [
    "# Function to iterate through a buch of blocks get their transactions and their receipts"
   ]
  },
  {
   "cell_type": "code",
   "execution_count": 130,
   "metadata": {},
   "outputs": [],
   "source": [
    " block1 = web3.eth.getBlock('0xd9936995256ba1e928ab654875f65123713492dfd6f2174d74063bf534ae94ba')"
   ]
  },
  {
   "cell_type": "code",
   "execution_count": 131,
   "metadata": {},
   "outputs": [],
   "source": [
    "# Eth.getTransactionByBlock(block_identifier, transaction_index)\n",
    "# Eth.getTransactionReceipt(transaction_hash)\n",
    "# Eth.getBlockTransactionCount(block_identifier)\n",
    "# Eth.getBlock"
   ]
  },
  {
   "cell_type": "code",
   "execution_count": 132,
   "metadata": {},
   "outputs": [],
   "source": [
    "import time"
   ]
  },
  {
   "cell_type": "code",
   "execution_count": 223,
   "metadata": {},
   "outputs": [],
   "source": [
    "def getBlocks(n_blocks):\n",
    "    blocks_list = list() # list of blocks to return\n",
    "    previous_block_hash  = str() # store the hash to the previous block hash\n",
    "    block = None # store the block here\n",
    "    for i in range(n_blocks):\n",
    "        # get the latest block\n",
    "        if i==0:\n",
    "            block = web3.eth.getBlock('latest')\n",
    "            time.sleep(5)\n",
    "        else:\n",
    "            block = web3.eth.getBlock(previous)\n",
    "            time.sleep(5)\n",
    "        blocks_list.append(block)\n",
    "        previous = block.hash.hex()\n",
    "    return blocks_list"
   ]
  },
  {
   "cell_type": "code",
   "execution_count": 156,
   "metadata": {
    "collapsed": true
   },
   "outputs": [
    {
     "name": "stdout",
     "output_type": "stream",
     "text": [
      "difficulty:  2244815870377328\n",
      "extraData:  b'seo10'\n",
      "gasLimit:  8000029\n",
      "gasUsed:  7924244\n",
      "hash:  0x0bd4ebf0655ab647960f3c2b890c18ae6081487fa256e8abfb0049bdee370fb7\n",
      "logsBloom:  0x0a325d91284070b9614494044600ae4250a48007a404000201d20460216403e40e4050304c58415086424202934c02e61682201000a0c15403310200546c0080074078ce0205a68b3800101801430619aa1c101a0868e0d1020081265a907020074086c39399d0809664210108006ee4d51400081414100010784011500a6000040410b8c0d4011000406084040154288600036281010006008324260800a2005b04008864321ea802040893422489db40b004400c05c2141801009a810f033050018e32251100140108544842c244a205006b01f32c42058036822ce0633402a630311a89398a08c00852069109c5220001062905112a0a0456a2400c214815\n",
      "miner:  0xb2930B35844a230f00E51431aCAe96Fe543a0347\n",
      "mixHash:  0xca8bd9614ea14c28eb2d88ab08960fd59e81575f68f9f21284b88e0e2aa99582\n",
      "none: 0x1d890f6c099e1948\n",
      "number:  6871070\n",
      "parentHash:  0x5a225e59f21f26755918da30caeb61c5adc04887d0343ec66a2460eb052dda20\n",
      "receiptsRoot: 0x8bbfcbc2ea70c8a6987860652cf7d1fc286624dfc2518d4cf6ab73b44f320f08\n",
      "sha3Uncles:  0x1dcc4de8dec75d7aab85b567b6ccd41ad312451b948a7413f0a142fd40d49347\n",
      "size:  16776\n",
      "stateRoot:  0x0c521a076634009c13e0dea6ee8245a85374bac0e4d5686f51ed98f5bbc3763c\n",
      "timestampt:  1544591689\n",
      "totalDifficulty:  8243937527590172195369\n",
      "transactionRoot:  0x3a3c157c5cb3837b59b88800dd1a8e643a3e3f0d719a6fe7ed1a610bcf38f491\n",
      "uncles:  []\n"
     ]
    }
   ],
   "source": [
    "print('difficulty: ',block_lists[0]['difficulty'])\n",
    "print('extraData: ',block_lists[0]['extraData'])\n",
    "print('gasLimit: ',block_lists[0]['gasLimit'])\n",
    "print('gasUsed: ',block_lists[0]['gasUsed'])\n",
    "print('hash: ',block_lists[0]['hash'].hex())\n",
    "print('logsBloom: ',block_lists[0]['logsBloom'].hex())\n",
    "print('miner: ',block_lists[0]['miner'])\n",
    "print('mixHash: ',block_lists[0]['mixHash'].hex())\n",
    "print('none:', block_lists[0]['nonce'].hex())\n",
    "print('number: ', block_lists[0]['number'])\n",
    "print('parentHash: ',block_lists[0]['parentHash'].hex())\n",
    "print('receiptsRoot:',block_lists[0]['receiptsRoot'].hex())\n",
    "print('sha3Uncles: ',block_lists[0]['sha3Uncles'].hex())\n",
    "print('size: ', block_lists[0]['size'])\n",
    "print('stateRoot: ',block_lists[0]['stateRoot'].hex())\n",
    "print('timestampt: ',block_lists[0]['timestamp'])\n",
    "print('totalDifficulty: ',block_lists[0]['totalDifficulty'])\n",
    "#print('transactions: ',block_lists[0]['transactions'])\n",
    "print('transactionRoot: ',block_lists[0]['transactionsRoot'].hex())\n",
    "print('uncles: ',block_lists[0]['uncles'])"
   ]
  },
  {
   "cell_type": "code",
   "execution_count": 230,
   "metadata": {},
   "outputs": [],
   "source": [
    "# Parse block information and create triples inf RDF Format\n",
    "def parseBlocks(blocks, graph):\n",
    "    for block in blocks:\n",
    "        # extract the block name\n",
    "        block_header_name = 'block_header'+str(block['number'])+block['hash'].hex()\n",
    "        block_name = 'block_'+str(block['number'])+block['hash'].hex()\n",
    "        block_header = URIRef(semanticProjectNS+block_header_name)\n",
    "        block_ethereum = URIRef(semanticProjectNS+block_name)\n",
    "\n",
    "        # extract data from the block\n",
    "        difficulty = Literal(block['difficulty'])\n",
    "        number = Literal(block['number'])\n",
    "        b_hash = Literal(block['hash'].hex())\n",
    "        extraData = Literal(block['extraData'])\n",
    "        gasUsed = Literal(block['gasUsed'])\n",
    "        gasLimit = Literal(block['gasLimit'])\n",
    "        logsBlom = Literal(block['logsBloom'].hex())\n",
    "        miner  = Literal(block['miner'])\n",
    "        parentHash = Literal(block['parentHash'].hex())\n",
    "        receiptsRoot = Literal(block['receiptsRoot'].hex())\n",
    "        shaUncles = block['sha3Uncles'].hex()\n",
    "        size = block['size']\n",
    "        stateRoot = block['stateRoot'].hex()\n",
    "        timeStamp = Literal(block['timestamp'])\n",
    "        totalDifficulty = block['totalDifficulty']\n",
    "        transactionsRoot = Literal(block['transactionsRoot'].hex())\n",
    "        mixhash = Literal(block['mixHash'].hex())\n",
    "        \n",
    "        \n",
    "        # Add to the graph\n",
    "        graph.add((block_ethereum, RDF.type, Blondie.isA_EthereumBlock()))\n",
    "        graph.add((block_header, RDF.type, Blondie.isA_EthereumBlockheader()))\n",
    "        graph.add((block_ethereum, Blondie.hasEthereumBlockheaderBlock(), block_header))\n",
    "        graph.add((block_header, Blondie.difficultyBlockheader(),difficulty))\n",
    "        graph.add((block_header, Blondie.extraDataEthereumBlockheader(),extraData))\n",
    "        graph.add((block_header, Blondie.gasLimitEthereumBlockheader(),gasLimit))\n",
    "        graph.add((block_header, Blondie.gasUsedEthereumBlockheader(),gasUsed))\n",
    "        graph.add((block_header, Blondie.hashPreviousBlockheader(),parentHash))\n",
    "        graph.add((block_header, Blondie.logsBloomEthereumBlockheader(),logsBlom))\n",
    "        graph.add((block_header, Blondie.mixHashEthereumBlockheader(),mixhash))\n",
    "        graph.add((block_header, Blondie.numberAncestorsEthereumBlockheader(),number))\n",
    "        graph.add((block_header, Blondie.receiptsRootEthereumBlockheader(),receiptsRoot))\n",
    "        graph.add((block_header, Blondie.mixHashEthereumBlockheader(),mixhash))\n",
    "        graph.add((block_header, Blondie.timestampBlockheader(),timeStamp))\n",
    "        graph.add((block_header, Blondie.transactionRootEthereumBlockheader(),transactionsRoot))\n",
    "        graph.serialize(destination='output.txt', format='turtle')"
   ]
  },
  {
   "cell_type": "code",
   "execution_count": 231,
   "metadata": {},
   "outputs": [],
   "source": [
    "from rdflib import URIRef, BNode, Literal"
   ]
  },
  {
   "cell_type": "code",
   "execution_count": 232,
   "metadata": {},
   "outputs": [
    {
     "data": {
      "text/plain": [
       "<Graph identifier=N5a24ef2d7a3b43958916f19e694db257 (<class 'rdflib.graph.Graph'>)>"
      ]
     },
     "execution_count": 232,
     "metadata": {},
     "output_type": "execute_result"
    }
   ],
   "source": [
    "g = Graph()\n",
    "g.bind('CS-586', semanticProjectNS, override=True)\n",
    "g.namespace_manager\n",
    "g.parse(\"individuals.owl\", format=\"turtle\")"
   ]
  },
  {
   "cell_type": "code",
   "execution_count": 233,
   "metadata": {},
   "outputs": [],
   "source": [
    "block_lists = getBlocks(10)\n",
    "parseBlocks(block_lists, g)"
   ]
  },
  {
   "cell_type": "code",
   "execution_count": 229,
   "metadata": {},
   "outputs": [],
   "source": [
    "g.serialize(destination='output.txt', format='turtle')"
   ]
  },
  {
   "cell_type": "code",
   "execution_count": 84,
   "metadata": {},
   "outputs": [
    {
     "data": {
      "text/plain": [
       "'0xd9936995256ba1e928ab654875f65123713492dfd6f2174d74063bf534ae94ba'"
      ]
     },
     "execution_count": 84,
     "metadata": {},
     "output_type": "execute_result"
    }
   ],
   "source": [
    "block1['hash'].hex()"
   ]
  },
  {
   "cell_type": "code",
   "execution_count": 5,
   "metadata": {
    "collapsed": true
   },
   "outputs": [
    {
     "data": {
      "text/plain": [
       "AttributeDict({'blockHash': HexBytes('0xc42bf5f9e5dd5b559eedcf27f6f573d21e144d8e066dbd0a7ed065ada298d7d0'),\n",
       " 'blockNumber': 6862732,\n",
       " 'from': '0x038cB2d468461dFF612Abb01d6Ae40AB59c1a9c5',\n",
       " 'gas': 135560,\n",
       " 'gasPrice': 21000000001,\n",
       " 'hash': HexBytes('0xb7d171962672b1435c8ae6aa18af832496a4dc58ae9acae010829059a01fe368'),\n",
       " 'input': '0x7895dd21000000000000000000000000000000000000000000000000000000000000008000000000000000000000000000000000000000000000000000000000000000e00000000000000000000000000000000000000000000000000000000000000140000000000000000000000000038cb2d468461dff612abb01d6ae40ab59c1a9c50000000000000000000000000000000000000000000000000000000000000002000000000000000000000000c02aaa39b223fe8d0a0e5c4f27ead9083c756cc2000000000000000000000000543ff227f64aa17ea132bf9886cab5db55dcaddf0000000000000000000000000000000000000000000000000000000000000002000000000000000000000000543ff227f64aa17ea132bf9886cab5db55dcaddf000000000000000000000000c02aaa39b223fe8d0a0e5c4f27ead9083c756cc20000000000000000000000000000000000000000000000000000000000000002000000000000000000000000000000000000000000000000000000000000008e000000000000000000000000000000000000000000000000000000000000008e',\n",
       " 'nonce': 657,\n",
       " 'r': HexBytes('0xa48ce55d730a34f4854dcdfa3060e9b5ea0bd87a25aff16746f313692a878360'),\n",
       " 's': HexBytes('0x6f44833f131191e22706479e5090d4d73b34325e442cfb08d51ff83a9a1fca4b'),\n",
       " 'to': '0xaf1745c0f8117384Dfa5FFf40f824057c70F2ed3',\n",
       " 'transactionIndex': 1,\n",
       " 'v': 27,\n",
       " 'value': 0})"
      ]
     },
     "execution_count": 5,
     "metadata": {},
     "output_type": "execute_result"
    }
   ],
   "source": [
    "web3.eth.getTransaction('0xb7d171962672b1435c8ae6aa18af832496a4dc58ae9acae010829059a01fe368')"
   ]
  },
  {
   "cell_type": "code",
   "execution_count": 32,
   "metadata": {},
   "outputs": [
    {
     "data": {
      "text/plain": [
       "web3.datastructures.AttributeDict"
      ]
     },
     "execution_count": 32,
     "metadata": {},
     "output_type": "execute_result"
    }
   ],
   "source": [
    "block1['']"
   ]
  },
  {
   "cell_type": "markdown",
   "metadata": {},
   "source": [
    "# Use rdflib and ontospy to create triples"
   ]
  },
  {
   "cell_type": "markdown",
   "metadata": {},
   "source": [
    "# Create triples from stored blocks"
   ]
  },
  {
   "cell_type": "code",
   "execution_count": 1,
   "metadata": {},
   "outputs": [],
   "source": [
    "import ontospy\n",
    "import rdflib\n",
    "from rdflib import Graph\n",
    "from rdflib import Namespace\n",
    "from rdflib.namespace import OWL, RDF, RDFS, FOAF\n",
    "from rdflib import URIRef, BNode, Literal"
   ]
  },
  {
   "cell_type": "code",
   "execution_count": 5,
   "metadata": {
    "collapsed": true
   },
   "outputs": [
    {
     "name": "stderr",
     "output_type": "stream",
     "text": [
      "WARNING:rdflib.term:https://raw.githubusercontent.com/hedugaro/Blondie/master/?xml version=\"1.0\"? does not look like a valid URI, trying to serialize this will break.\n",
      "WARNING:rdflib.term:rdf:RDF xmlns=\"http://www.semanticblockchain.com/Blondie.owl#\"\n",
      "     xml:base=\"http://www.semanticblockchain.com/Blondie.owl\"\n",
      "     xmlns:rdf=\"http://www.w3.org/1999/02/22-rdf-syntax-ns#\"\n",
      "     xmlns:owl=\"http://www.w3.org/2002/07/owl#\"\n",
      "     xmlns:xml=\"http://www.w3.org/XML/1998/namespace\"\n",
      "     xmlns:xsd=\"http://www.w3.org/2001/XMLSchema#\"\n",
      "     xmlns:rdfs=\"http://www.w3.org/2000/01/rdf-schema#\" does not look like a valid URI, trying to serialize this will break.\n",
      "WARNING:rdflib.term:owl:Ontology rdf:about=\"http://www.semanticblockchain.com/Blondie.owl\" does not look like a valid URI, trying to serialize this will break.\n"
     ]
    }
   ],
   "source": [
    "model = ontospy.Ontospy(\"https://raw.githubusercontent.com/hedugaro/Blondie/master/BLONDiE%200.4.owl\")"
   ]
  },
  {
   "cell_type": "code",
   "execution_count": 79,
   "metadata": {},
   "outputs": [
    {
     "data": {
      "text/plain": [
       "rdflib.term.URIRef('http://www.semanticblockchain.com/Blondie.owl#')"
      ]
     },
     "execution_count": 79,
     "metadata": {},
     "output_type": "execute_result"
    }
   ],
   "source": [
    "model.namespaces[0][1]"
   ]
  },
  {
   "cell_type": "code",
   "execution_count": 54,
   "metadata": {},
   "outputs": [],
   "source": [
    "blondieNS = Namespace('http://www.semanticblockchain.com/Blondie.owl#')\n",
    "semanticProjectNS = Namespace('http://example.com/CS-586#')"
   ]
  },
  {
   "cell_type": "code",
   "execution_count": 85,
   "metadata": {},
   "outputs": [],
   "source": [
    "block = semanticProjectNS.block_48889"
   ]
  },
  {
   "cell_type": "code",
   "execution_count": 197,
   "metadata": {},
   "outputs": [],
   "source": [
    "g = Graph()\n",
    "g.bind('CS-586', semanticProjectNS, override=True)\n",
    "g.namespace_manager\n",
    "g.parse(\"individuals.owl\", format=\"turtle\")"
   ]
  },
  {
   "cell_type": "code",
   "execution_count": 114,
   "metadata": {},
   "outputs": [
    {
     "data": {
      "text/plain": [
       "rdflib.term.URIRef('http://xmlns.com/foaf/0.1/knows')"
      ]
     },
     "execution_count": 114,
     "metadata": {},
     "output_type": "execute_result"
    }
   ],
   "source": [
    "FOAF.knows"
   ]
  },
  {
   "cell_type": "code",
   "execution_count": 115,
   "metadata": {},
   "outputs": [
    {
     "data": {
      "text/plain": [
       "rdflib.term.URIRef('http://www.semanticblockchain.com/Blondie.owl#hashPreviousBlockheader')"
      ]
     },
     "execution_count": 115,
     "metadata": {},
     "output_type": "execute_result"
    }
   ],
   "source": [
    "Blondie.hashPreviousBlockheader()"
   ]
  },
  {
   "cell_type": "code",
   "execution_count": 116,
   "metadata": {},
   "outputs": [],
   "source": [
    "g.add( (block, RDF.type, Blondie.isA_BitcoinBlock()) )\n",
    "g.add((block, Blondie.versionBitcoinTransaction(), Literal('0xb7d171962672b1435c8ae6aa18af832496a4dc58ae9acae010829059a01fe368')))"
   ]
  },
  {
   "cell_type": "code",
   "execution_count": 121,
   "metadata": {},
   "outputs": [],
   "source": [
    "g.serialize(destination='output.owl', format='turtle')"
   ]
  },
  {
   "cell_type": "code",
   "execution_count": 120,
   "metadata": {
    "scrolled": true
   },
   "outputs": [
    {
     "data": {
      "text/plain": [
       "[]"
      ]
     },
     "execution_count": 120,
     "metadata": {},
     "output_type": "execute_result"
    }
   ],
   "source": [
    "model.all_properties_annotation"
   ]
  },
  {
   "cell_type": "code",
   "execution_count": 112,
   "metadata": {},
   "outputs": [],
   "source": [
    "class Blondie:\n",
    "    blondieNS = Namespace('http://www.semanticblockchain.com/Blondie.owl#')\n",
    "    \"\"\"CLASSES\"\"\"\n",
    "    def isA_BitcoinBlock():\n",
    "        return blondieNS.BitcoinBlock\n",
    "    def isA_BitcoinBlockheader():\n",
    "        return blondieNS.BitcoinBlockheader\n",
    "    def isA_BitcoinPayload():\n",
    "        return blondieNS.BitcoinPayload\n",
    "    def isA_BitcoinTransaction():\n",
    "        return blondieNS.BitcoinTransaction\n",
    "    def isA_BitcoinTransactionInput():\n",
    "        return blondieNS.BitcoinTransactionInput\n",
    "    def isA_BitcoinTransactionOutput():\n",
    "        return blondieNS.BitcoinTransactionOutput\n",
    "    def isA_Block():\n",
    "        return blondieNS.Block\n",
    "    def isA_Blockheader():\n",
    "        return blondieNS.Blockheader\n",
    "    def isA_ContractCreationEthereumTransaction():\n",
    "        return blondieNS.ContractCreationEthereumTransaction\n",
    "    def isA_ContractEthereumAccount():\n",
    "        return blondieNS.ContractEthereumAccount\n",
    "    def isA_EthereumAccount():\n",
    "        return blondieNS.EthereumAccount\n",
    "    def isA_EthereumBlock():\n",
    "        return blondieNS.EthereumBlock\n",
    "    def isA_EthereumBlockheader():\n",
    "        return blondieNS.EthereumBlockheader\n",
    "    def isA_EthereumOmmerBlockheader():\n",
    "        return blondieNS.EthereumOmmerBlockheader\n",
    "    def isA_EthereumPayload():\n",
    "        return blondieNS.EthereumPayload\n",
    "    def isA_EthereumTransaction():\n",
    "        return blondieNS.EthereumTransaction\n",
    "    def isA_MessageCallEthereumTransaction():\n",
    "        return blondieNS.MessageCallEthereumTransaction\n",
    "    def isA_NormalAccount():\n",
    "        return blondieNS.NormalAccount\n",
    "    def isA_NormalEthereumTransaction():\n",
    "        return blondieNS.NormalEthereumTransaction\n",
    "    def isA_Payload():\n",
    "        return blondieNS.Payload\n",
    "    def isA_Transaction():\n",
    "        return blondieNS.Transaction\n",
    "    \n",
    "    \n",
    "    # Properties\n",
    "    def hasBitcoinBlockheaderBlock():\n",
    "        return URIRef(blondieNS.hasBitcoinBlockheaderBlock)\n",
    "    def hasBlockheaderBlock():\n",
    "        return URIRef(blondieNS.hasBlockheaderBlock)\n",
    "    def hasEthereumBlockheaderBlock():\n",
    "        return URIRef(blondieNS.hasEthereumBlockheaderBlock)\n",
    "    def hasEthereumPayloadBlock():\n",
    "        return URIRef(blondieNS.hasEthereumPayloadBlock)\n",
    "    def hasEthereumTransactionPayload():\n",
    "        return URIRef(blondieNS.hasEthereumTransactionPayload)\n",
    "    def hasPayloadBlock():\n",
    "        return URIRef(blondieNS.hasPayloadBlock)\n",
    "    def hasBitcoinPayloadBlock():\n",
    "        return URIRef(blondieNS.hasBitcoinPayloadBlock)\n",
    "    def hasOmmerEthereumPayload():\n",
    "        return URIRef(blondieNS.hasOmmerEthereumPayload)\n",
    "    def hasTransactionPayload():\n",
    "        return URIRef(blondieNS.hasTransactionPayload)\n",
    "    def hasBitcoinTransactionInput():\n",
    "        return URIRef(blondieNS.hasBitcoinTransactionInput)\n",
    "    def hasBitcoinTransactionOutput():\n",
    "        return URIRef(blondieNS.hasBitcoinTransactionOutput)\n",
    "    \n",
    "    # DataProperties\n",
    "    \n",
    "    def addressEthereumAccount():\n",
    "        return URIRef(blondieNS.addressEthereumAccount)\n",
    "    def balanceEthereumAccount():\n",
    "        return URIRef(blondieNS.balanceEthereumAccount)\n",
    "    def beneficiaryEthereumBlockheader():\n",
    "        return URIRef(blondieNS.beneficiaryEthereumBlockheader)\n",
    "    def codeHashContractEthereumAccount():\n",
    "        return URIRef(blondieNS.codeHashContractEthereumAccount)\n",
    "    def dataMessageCallEthereumTransaction():\n",
    "        return URIRef(blondieNS.dataMessageCallEthereumTransaction)\n",
    "    def difficultyBlockheader():\n",
    "        return URIRef(blondieNS.difficultyBlockheader)\n",
    "    def extraDataEthereumBlockheader():\n",
    "        return URIRef(blondieNS.extraDataEthereumBlockheader)\n",
    "    def gasLimitEthereumBlockheader():\n",
    "        return URIRef(blondieNS.gasLimitEthereumBlockheader)\n",
    "    def gasLimitEthereumTransaction():\n",
    "        return URIRef(blondieNS.gasLimitEthereumTransaction)\n",
    "    def gasPriceEthereumTransaction():\n",
    "        return URIRef(blondieNS.gasPriceEthereumTransaction)\n",
    "    def gasUsedEthereumBlockheader():\n",
    "        return URIRef(blondieNS.gasUsedEthereumBlockheader)\n",
    "    def hashBitcoinTransactionInput():\n",
    "        return URIRef(blondieNS.hashBitcoinTransactionInput)\n",
    "    def hashPreviousBlockheader():\n",
    "        return URIRef(blondieNS.hashPreviousBlockheader)\n",
    "    def heightBlock():\n",
    "        return URIRef(blondieNS.heightBlock)\n",
    "    def indexBitcoinTransactionInput():\n",
    "        return URIRef(blondieNS.indexBitcoinTransactionInput)\n",
    "    def initContractCreationEthereumTransaction():\n",
    "        return URIRef(blondieNS.initContractCreationEthereumTransaction)\n",
    "    def lockTimeBitcoinTransaction():\n",
    "        return URIRef(blondieNS.lockTimeBitcoinTransaction)\n",
    "    def logsBloomEthereumBlockheader():\n",
    "        return URIRef(blondieNS.logsBloomEthereumBlockheader)\n",
    "    def merkleRootBlockheader():\n",
    "        return URIRef(blondieNS.merkleRootBlockheader)\n",
    "    def minerBlock():\n",
    "        return URIRef(blondieNS.minerBlock)\n",
    "    def mixHashEthereumBlockheader():\n",
    "        return URIRef(blondieNS.mixHashEthereumBlockheader)\n",
    "    def nSequenceBitcoinTransactionInput():\n",
    "        return URIRef(blondieNS.nSequenceBitcoinTransactionInput)\n",
    "    def nValueBitcoinTransactionOutput():\n",
    "        return URIRef(blondieNS.nValueBitcoinTransactionOutput)\n",
    "    def nonceBlockheader():\n",
    "        return URIRef(blondieNS.nonceBlockheader)\n",
    "    def nonceEthereumAccount():\n",
    "        return URIRef(blondieNS.nonceEthereumAccount)\n",
    "    def nonceEthereumTransaction():\n",
    "        return URIRef(blondieNS.nonceEthereumTransaction)\n",
    "    def numberAncestorsEthereumBlockheader():\n",
    "        return URIRef(blondieNS.numberAncestorsEthereumBlockheader)\n",
    "    def numberInputTransactionsBitcoinTransaction():\n",
    "        return URIRef(blondieNS.numberInputTransactionsBitcoinTransaction)\n",
    "    def numberOutputTransactionsBitcoinTransaction():\n",
    "        return URIRef(blondieNS.numberOutputTransactionsBitcoinTransaction)\n",
    "    def numberTransactionsBitcoinPayload():\n",
    "        return URIRef(blondieNS.numberTransactionsBitcoinPayload)\n",
    "    def omnersHashEthereumBlockheader():\n",
    "        return URIRef(blondieNS.omnersHashEthereumBlockheader)\n",
    "    def rEthereumTransaction():\n",
    "        return URIRef(blondieNS.rEthereumTransaction)\n",
    "    def receiptsRootEthereumBlockheader():\n",
    "        return URIRef(blondieNS.receiptsRootEthereumBlockheader)\n",
    "    def recipientEthereumTransaction():\n",
    "        return URIRef(blondieNS.recipientEthereumTransaction)\n",
    "    def sEthereumTransaction():\n",
    "        return URIRef(blondieNS.sEthereumTransaction)\n",
    "    def scriptPubkeyBitcoinTransactionOutput():\n",
    "        return URIRef(blondieNS.scriptPubkeyBitcoinTransactionOutput)\n",
    "    def scriptPubkeyLenBitcoinTransactionOutput():\n",
    "        return URIRef(blondieNS.scriptPubkeyLenBitcoinTransactionOutput)\n",
    "    def scriptSigLenBitcoinTransactionInput():\n",
    "        return URIRef(blondieNS.scriptSigLenBitcoinTransactionInput)\n",
    "    def scriptSignBitcoinTransactionInput():\n",
    "        return URIRef(blondieNS.scriptSignBitcoinTransactionInput)\n",
    "    def senderTransaction():\n",
    "        return URIRef(blondieNS.senderTransaction)\n",
    "    def stateBlock():\n",
    "        return URIRef(blondieNS.stateBlock)\n",
    "    def storageRootContractEthereumAccount():\n",
    "        return URIRef(blondieNS.storageRootContractEthereumAccount)\n",
    "    def timestampBlockheader():\n",
    "        return URIRef(blondieNS.timestampBlockheader)\n",
    "    def totalCoinsBlock():\n",
    "        return URIRef(blondieNS.totalCoinsBlock)\n",
    "    def totalTransactionsBlock():\n",
    "        return URIRef(blondieNS.totalTransactionsBlock)\n",
    "    def transactionRootEthereumBlockheader():\n",
    "        return URIRef(blondieNS.transactionRootEthereumBlockheader)\n",
    "    def vEthereumTransaction():\n",
    "        return URIRef(blondieNS.vEthereumTransaction)\n",
    "    def valueEthereumTransaction():\n",
    "        return URIRef(blondieNS.valueEthereumTransaction)\n",
    "    def versionBitcoinBlockheader():\n",
    "        return URIRef(blondieNS.versionBitcoinBlockheader)\n",
    "    def versionBitcoinTransaction():\n",
    "        return URIRef(blondieNS.versionBitcoinTransaction)\n"
   ]
  },
  {
   "cell_type": "code",
   "execution_count": null,
   "metadata": {},
   "outputs": [],
   "source": []
  }
 ],
 "metadata": {
  "kernelspec": {
   "display_name": "Python 3",
   "language": "python",
   "name": "python3"
  },
  "language_info": {
   "codemirror_mode": {
    "name": "ipython",
    "version": 3
   },
   "file_extension": ".py",
   "mimetype": "text/x-python",
   "name": "python",
   "nbconvert_exporter": "python",
   "pygments_lexer": "ipython3",
   "version": "3.6.5"
  }
 },
 "nbformat": 4,
 "nbformat_minor": 2
}

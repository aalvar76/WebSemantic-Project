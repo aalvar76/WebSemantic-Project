{
 "cells": [
  {
   "cell_type": "markdown",
   "metadata": {},
   "source": [
    "# Import Libraries"
   ]
  },
  {
   "cell_type": "code",
   "execution_count": 128,
   "metadata": {},
   "outputs": [],
   "source": [
    "from web3 import Web3 "
   ]
  },
  {
   "cell_type": "markdown",
   "metadata": {},
   "source": [
    "# Initialize web3 api to get information from Ethereum blockchain"
   ]
  },
  {
   "cell_type": "code",
   "execution_count": 129,
   "metadata": {},
   "outputs": [],
   "source": [
    "web3 = Web3(Web3.HTTPProvider(\"https://mainnet.infura.io/v3/341dcb557aa64fdbbb22b163f2697430\"))"
   ]
  },
  {
   "cell_type": "markdown",
   "metadata": {},
   "source": [
    "# Iterate through blocks and extract information"
   ]
  },
  {
   "cell_type": "code",
   "execution_count": 130,
   "metadata": {},
   "outputs": [],
   "source": [
    " block1 = web3.eth.getBlock('0xd9936995256ba1e928ab654875f65123713492dfd6f2174d74063bf534ae94ba')"
   ]
  },
  {
   "cell_type": "code",
   "execution_count": 237,
   "metadata": {},
   "outputs": [
    {
     "data": {
      "text/plain": [
       "AttributeDict({'difficulty': 2319573359709279,\n",
       " 'extraData': HexBytes('0x73656f34'),\n",
       " 'gasLimit': 8000029,\n",
       " 'gasUsed': 7985013,\n",
       " 'hash': HexBytes('0xd9936995256ba1e928ab654875f65123713492dfd6f2174d74063bf534ae94ba'),\n",
       " 'logsBloom': HexBytes('0x35ac30046090012d8703921311583c6680008321319c40600029f9600414394116a004ae614eb0bc0068440d2a1250d18b80e8820a108d8a8090281000700d54f441068606010a3842aa70ea9208e8140a085090a40c00110c121d533c3184483902c00541003305d7b02e7604014000b22ee32ff1817066908cd0338152b1952135760dd809091680d011180685888905445320323c3013800008b61384aa3402a9480124414892001210e304d0418a820944201003061240001c1f057110c4505802020098001180034642616104dc09808032002893812a8601b1800215de0289300c201c130202404040002111044022200730b0488490c0d4408012b709'),\n",
       " 'miner': '0xb2930B35844a230f00E51431aCAe96Fe543a0347',\n",
       " 'mixHash': HexBytes('0x376b6857899db0ce8fffc0500cc28e62beacebe94afe00a3e4222da29fbd8750'),\n",
       " 'nonce': HexBytes('0x43c7d4704a5894de'),\n",
       " 'number': 6867304,\n",
       " 'parentHash': HexBytes('0x31a7f4c6ddf82447476d1f703b7ccb23d203ea1b6307f0a4a10e6f1a543aa73a'),\n",
       " 'receiptsRoot': HexBytes('0x4b13a224ee6547e700cdb49ce447f884352e8e4ac4a5caa7e054ef6f0a0ac311'),\n",
       " 'sha3Uncles': HexBytes('0x1dcc4de8dec75d7aab85b567b6ccd41ad312451b948a7413f0a142fd40d49347'),\n",
       " 'size': 21720,\n",
       " 'stateRoot': HexBytes('0x4bf57d3b06d5059a17d8a5a8d447bbe4d6592bae0d0daa1a5a53eab3af812973'),\n",
       " 'timestamp': 1544537444,\n",
       " 'totalDifficulty': 8235222857947388411070,\n",
       " 'transactions': [HexBytes('0x22a36dd629910c0d4e8307b1761375eb128fa96f5b8fb432ae113c023f38b260'),\n",
       "  HexBytes('0xbc4cb9250ece2445120575c8857ec15c716fed512911f3e2fe411be3b2350865'),\n",
       "  HexBytes('0xe2f275f2a2bfa8e7341fcc15448454c145ce42c047b49b00b1fdff58b4e412dd'),\n",
       "  HexBytes('0x3eae59fc4f71f68827b4877ebedaa1141a93e60026fc4001ec53899816730f8d'),\n",
       "  HexBytes('0x231badd50dbdbc25fe5c35c0cf6126f057e9368065dbaa595ab632ea6f5c90b5'),\n",
       "  HexBytes('0xa149418a0ad6f5ab42e23632c72fadfb99f72ac631dc5daa9c23c4b4ca6e5775'),\n",
       "  HexBytes('0xccac51991fc89cc9cf2c9e80441ee00c2d04056721b744bf8d9222756390d2ae'),\n",
       "  HexBytes('0x2c37de12ffe9a02d0d43b1a850c585015ab7d71213c973c74fc71e76833566f8'),\n",
       "  HexBytes('0x1c8dbed91149ae94c435d392bd7481921dd33a13859803259be320c8b00686ed'),\n",
       "  HexBytes('0xc74eb06563c8c7255e5b965219c4ef9082aa530d2e2e3d9c4160022566c8fd54'),\n",
       "  HexBytes('0xfe6c8a586da2a6de867420252725ae7a0f7f7e5a6bb10402f1c6c12ba3a74904'),\n",
       "  HexBytes('0xdc782f5aa896ac340227389c1f43c00cd727475c9c6d53d0f979ece6730a5918'),\n",
       "  HexBytes('0x7d5879cf1e882c92cd3f798f49f997a96043b8e0ff8939de60dd8f40c07fbed3'),\n",
       "  HexBytes('0xdcb6355efe8067c5a0c762da5064a95bddf9dfade25296055ab7aa007f092650'),\n",
       "  HexBytes('0x222c3c3df9715c19b061a439f8ae921a3f7ec4313f22ef4404a324149d0edf12'),\n",
       "  HexBytes('0x49827846a97150d24aaf354c3782f39dee4136e4c33db04c093a49115e84da76'),\n",
       "  HexBytes('0x88623174c40cbe6ccadd59c4378dc5d20b0d75bb9f0c26d5fa481a5957e6118a'),\n",
       "  HexBytes('0x862b29e0bdf2927f1910190035781c54a251d4cf43923ba78ac7adcf04dc84a5'),\n",
       "  HexBytes('0x8ee481f9faf75e3335fd5044396a2db0226c42674638b38bb1a44322d60156b8'),\n",
       "  HexBytes('0x542df621d6821758512814417962d33988b8c084cac794fbc5188badb7c7d791'),\n",
       "  HexBytes('0x91b2d8e8083d3b8994fd10fb652e8c751884d660b687c85b073b925b7d75b991'),\n",
       "  HexBytes('0x4440a2217fde4b2fb9731dd7a5bf1b7cb40df631cea2a49cb7b8a2caf64a1b38'),\n",
       "  HexBytes('0x593c0e2e993774016641ed9504d1f5883e46effb7829e46f94c76721b0c10362'),\n",
       "  HexBytes('0x04ff2d17c864faa5b683c06fa86e49585d880442730aaf31db204c910759b0e8'),\n",
       "  HexBytes('0x407bcc0fff6155c078b9ca038cf555ea842ce31f808f4bbedca4615166cb59e4'),\n",
       "  HexBytes('0x6e50792939e1aa6c757ea80aff2cc08874cdc38c5d48733349bb04c494e54bf9'),\n",
       "  HexBytes('0xacceb9b7defd59c3811a438c7a320f34bc8b7f44c7c0aa5113ec57710c12a322'),\n",
       "  HexBytes('0xd675c9b2296e6659d2c920b07cd8f50682701924f181826f8278ed06bca50d4b'),\n",
       "  HexBytes('0x88720b13832656dfa4071bf659b893008487e10195a0f0a9345790e3f466c4eb'),\n",
       "  HexBytes('0xfe410a7acfc1cef18173b3943e0e7f1770f0035121c1e1c2ec3a7ca17a6a12c0')],\n",
       " 'transactionsRoot': HexBytes('0x5349c02a426dc0c684e59d07f7dd47b5ea3d5cda6c821c31d9dbfc5f942b73db'),\n",
       " 'uncles': []})"
      ]
     },
     "execution_count": 237,
     "metadata": {},
     "output_type": "execute_result"
    }
   ],
   "source": [
    "block1"
   ]
  },
  {
   "cell_type": "code",
   "execution_count": 131,
   "metadata": {},
   "outputs": [],
   "source": [
    "# Eth.getTransactionByBlock(block_identifier, transaction_index)\n",
    "# Eth.getTransactionReceipt(transaction_hash)\n",
    "# Eth.getBlockTransactionCount(block_identifier)\n",
    "# Eth.getBlock"
   ]
  },
  {
   "cell_type": "code",
   "execution_count": 132,
   "metadata": {},
   "outputs": [],
   "source": [
    "import time"
   ]
  },
  {
   "cell_type": "code",
   "execution_count": 223,
   "metadata": {},
   "outputs": [],
   "source": [
    "import time\n",
    "def getBlocks(n_blocks):\n",
    "    blocks_list = list() # list of blocks to return\n",
    "    previous_block_hash  = str() # store the hash to the previous block hash\n",
    "    block = None # store the block here\n",
    "    for i in range(n_blocks):\n",
    "        # get the latest block\n",
    "        if i==0:\n",
    "            block = web3.eth.getBlock('latest')\n",
    "            time.sleep(5)\n",
    "        else:\n",
    "            block = web3.eth.getBlock(previous)\n",
    "            time.sleep(5)\n",
    "        blocks_list.append(block)\n",
    "        previous = block.hash.hex()\n",
    "    return blocks_list"
   ]
  },
  {
   "cell_type": "code",
   "execution_count": 156,
   "metadata": {
    "collapsed": true
   },
   "outputs": [
    {
     "name": "stdout",
     "output_type": "stream",
     "text": [
      "difficulty:  2244815870377328\n",
      "extraData:  b'seo10'\n",
      "gasLimit:  8000029\n",
      "gasUsed:  7924244\n",
      "hash:  0x0bd4ebf0655ab647960f3c2b890c18ae6081487fa256e8abfb0049bdee370fb7\n",
      "logsBloom:  0x0a325d91284070b9614494044600ae4250a48007a404000201d20460216403e40e4050304c58415086424202934c02e61682201000a0c15403310200546c0080074078ce0205a68b3800101801430619aa1c101a0868e0d1020081265a907020074086c39399d0809664210108006ee4d51400081414100010784011500a6000040410b8c0d4011000406084040154288600036281010006008324260800a2005b04008864321ea802040893422489db40b004400c05c2141801009a810f033050018e32251100140108544842c244a205006b01f32c42058036822ce0633402a630311a89398a08c00852069109c5220001062905112a0a0456a2400c214815\n",
      "miner:  0xb2930B35844a230f00E51431aCAe96Fe543a0347\n",
      "mixHash:  0xca8bd9614ea14c28eb2d88ab08960fd59e81575f68f9f21284b88e0e2aa99582\n",
      "none: 0x1d890f6c099e1948\n",
      "number:  6871070\n",
      "parentHash:  0x5a225e59f21f26755918da30caeb61c5adc04887d0343ec66a2460eb052dda20\n",
      "receiptsRoot: 0x8bbfcbc2ea70c8a6987860652cf7d1fc286624dfc2518d4cf6ab73b44f320f08\n",
      "sha3Uncles:  0x1dcc4de8dec75d7aab85b567b6ccd41ad312451b948a7413f0a142fd40d49347\n",
      "size:  16776\n",
      "stateRoot:  0x0c521a076634009c13e0dea6ee8245a85374bac0e4d5686f51ed98f5bbc3763c\n",
      "timestampt:  1544591689\n",
      "totalDifficulty:  8243937527590172195369\n",
      "transactionRoot:  0x3a3c157c5cb3837b59b88800dd1a8e643a3e3f0d719a6fe7ed1a610bcf38f491\n",
      "uncles:  []\n"
     ]
    }
   ],
   "source": [
    "print('difficulty: ',block_lists[0]['difficulty'])\n",
    "print('extraData: ',block_lists[0]['extraData'])\n",
    "print('gasLimit: ',block_lists[0]['gasLimit'])\n",
    "print('gasUsed: ',block_lists[0]['gasUsed'])\n",
    "print('hash: ',block_lists[0]['hash'].hex())\n",
    "print('logsBloom: ',block_lists[0]['logsBloom'].hex())\n",
    "print('miner: ',block_lists[0]['miner'])\n",
    "print('mixHash: ',block_lists[0]['mixHash'].hex())\n",
    "print('none:', block_lists[0]['nonce'].hex())\n",
    "print('number: ', block_lists[0]['number'])\n",
    "print('parentHash: ',block_lists[0]['parentHash'].hex())\n",
    "print('receiptsRoot:',block_lists[0]['receiptsRoot'].hex())\n",
    "print('sha3Uncles: ',block_lists[0]['sha3Uncles'].hex())\n",
    "print('size: ', block_lists[0]['size'])\n",
    "print('stateRoot: ',block_lists[0]['stateRoot'].hex())\n",
    "print('timestampt: ',block_lists[0]['timestamp'])\n",
    "print('totalDifficulty: ',block_lists[0]['totalDifficulty'])\n",
    "#print('transactions: ',block_lists[0]['transactions'])\n",
    "print('transactionRoot: ',block_lists[0]['transactionsRoot'].hex())\n",
    "print('uncles: ',block_lists[0]['uncles'])"
   ]
  },
  {
   "cell_type": "code",
   "execution_count": 234,
   "metadata": {},
   "outputs": [],
   "source": [
    "# Parse block information and create triples inf RDF Format\n",
    "def parseBlocks(blocks, graph):\n",
    "    for block in blocks:\n",
    "        # extract the block name\n",
    "        block_header_name = 'block_header'+str(block['number'])+block['hash'].hex()\n",
    "        block_name = 'block_'+str(block['number'])+block['hash'].hex()\n",
    "        block_header = URIRef(semanticProjectNS+block_header_name)\n",
    "        block_ethereum = URIRef(semanticProjectNS+block_name)\n",
    "\n",
    "        # extract data from the block\n",
    "        difficulty = Literal(block['difficulty'])\n",
    "        number = Literal(block['number'])\n",
    "        b_hash = Literal(block['hash'].hex())\n",
    "        extraData = Literal(block['extraData'])\n",
    "        gasUsed = Literal(block['gasUsed'])\n",
    "        gasLimit = Literal(block['gasLimit'])\n",
    "        logsBlom = Literal(block['logsBloom'].hex())\n",
    "        miner  = Literal(block['miner'])\n",
    "        parentHash = Literal(block['parentHash'].hex())\n",
    "        receiptsRoot = Literal(block['receiptsRoot'].hex())\n",
    "        shaUncles = block['sha3Uncles'].hex()\n",
    "        size = block['size']\n",
    "        stateRoot = block['stateRoot'].hex()\n",
    "        timeStamp = Literal(block['timestamp'])\n",
    "        totalDifficulty = block['totalDifficulty']\n",
    "        transactionsRoot = Literal(block['transactionsRoot'].hex())\n",
    "        mixhash = Literal(block['mixHash'].hex())\n",
    "        \n",
    "        \n",
    "        # Add to the graph\n",
    "        graph.add((block_ethereum, RDF.type, Blondie.isA_EthereumBlock()))\n",
    "        graph.add((block_header, RDF.type, Blondie.isA_EthereumBlockheader()))\n",
    "        graph.add((block_ethereum, Blondie.hasEthereumBlockheaderBlock(), block_header))\n",
    "        graph.add((block_header, Blondie.difficultyBlockheader(),difficulty))\n",
    "        graph.add((block_header, Blondie.extraDataEthereumBlockheader(),extraData))\n",
    "        graph.add((block_header, Blondie.gasLimitEthereumBlockheader(),gasLimit))\n",
    "        graph.add((block_header, Blondie.gasUsedEthereumBlockheader(),gasUsed))\n",
    "        graph.add((block_header, Blondie.hashPreviousBlockheader(),parentHash))\n",
    "        graph.add((block_header, Blondie.logsBloomEthereumBlockheader(),logsBlom))\n",
    "        graph.add((block_header, Blondie.mixHashEthereumBlockheader(),mixhash))\n",
    "        graph.add((block_header, Blondie.numberAncestorsEthereumBlockheader(),number))\n",
    "        graph.add((block_header, Blondie.receiptsRootEthereumBlockheader(),receiptsRoot))\n",
    "        graph.add((block_header, Blondie.mixHashEthereumBlockheader(),mixhash))\n",
    "        graph.add((block_header, Blondie.timestampBlockheader(),timeStamp))\n",
    "        graph.add((block_header, Blondie.transactionRootEthereumBlockheader(),transactionsRoot))\n",
    "        graph.serialize(destination='output.txt', format='turtle')"
   ]
  },
  {
   "cell_type": "code",
   "execution_count": 231,
   "metadata": {},
   "outputs": [],
   "source": [
    "from rdflib import URIRef, BNode, Literal"
   ]
  },
  {
   "cell_type": "code",
   "execution_count": 235,
   "metadata": {},
   "outputs": [
    {
     "data": {
      "text/plain": [
       "<Graph identifier=N9db201b37858458bb3b1e502f1b5793d (<class 'rdflib.graph.Graph'>)>"
      ]
     },
     "execution_count": 235,
     "metadata": {},
     "output_type": "execute_result"
    }
   ],
   "source": [
    "g = Graph()\n",
    "g.bind('CS-586', semanticProjectNS, override=True)\n",
    "g.namespace_manager\n",
    "g.parse(\"individuals.owl\", format=\"turtle\")"
   ]
  },
  {
   "cell_type": "code",
   "execution_count": 236,
   "metadata": {},
   "outputs": [],
   "source": [
    "block_lists = getBlocks(10)\n",
    "parseBlocks(block_lists, g)"
   ]
  },
  {
   "cell_type": "code",
   "execution_count": 229,
   "metadata": {},
   "outputs": [],
   "source": [
    "g.serialize(destination='output.txt', format='turtle')"
   ]
  },
  {
   "cell_type": "code",
   "execution_count": 84,
   "metadata": {},
   "outputs": [
    {
     "data": {
      "text/plain": [
       "'0xd9936995256ba1e928ab654875f65123713492dfd6f2174d74063bf534ae94ba'"
      ]
     },
     "execution_count": 84,
     "metadata": {},
     "output_type": "execute_result"
    }
   ],
   "source": [
    "block1['hash'].hex()"
   ]
  },
  {
   "cell_type": "code",
   "execution_count": 5,
   "metadata": {
    "collapsed": true
   },
   "outputs": [
    {
     "data": {
      "text/plain": [
       "AttributeDict({'blockHash': HexBytes('0xc42bf5f9e5dd5b559eedcf27f6f573d21e144d8e066dbd0a7ed065ada298d7d0'),\n",
       " 'blockNumber': 6862732,\n",
       " 'from': '0x038cB2d468461dFF612Abb01d6Ae40AB59c1a9c5',\n",
       " 'gas': 135560,\n",
       " 'gasPrice': 21000000001,\n",
       " 'hash': HexBytes('0xb7d171962672b1435c8ae6aa18af832496a4dc58ae9acae010829059a01fe368'),\n",
       " 'input': '0x7895dd21000000000000000000000000000000000000000000000000000000000000008000000000000000000000000000000000000000000000000000000000000000e00000000000000000000000000000000000000000000000000000000000000140000000000000000000000000038cb2d468461dff612abb01d6ae40ab59c1a9c50000000000000000000000000000000000000000000000000000000000000002000000000000000000000000c02aaa39b223fe8d0a0e5c4f27ead9083c756cc2000000000000000000000000543ff227f64aa17ea132bf9886cab5db55dcaddf0000000000000000000000000000000000000000000000000000000000000002000000000000000000000000543ff227f64aa17ea132bf9886cab5db55dcaddf000000000000000000000000c02aaa39b223fe8d0a0e5c4f27ead9083c756cc20000000000000000000000000000000000000000000000000000000000000002000000000000000000000000000000000000000000000000000000000000008e000000000000000000000000000000000000000000000000000000000000008e',\n",
       " 'nonce': 657,\n",
       " 'r': HexBytes('0xa48ce55d730a34f4854dcdfa3060e9b5ea0bd87a25aff16746f313692a878360'),\n",
       " 's': HexBytes('0x6f44833f131191e22706479e5090d4d73b34325e442cfb08d51ff83a9a1fca4b'),\n",
       " 'to': '0xaf1745c0f8117384Dfa5FFf40f824057c70F2ed3',\n",
       " 'transactionIndex': 1,\n",
       " 'v': 27,\n",
       " 'value': 0})"
      ]
     },
     "execution_count": 5,
     "metadata": {},
     "output_type": "execute_result"
    }
   ],
   "source": [
    "web3.eth.getTransaction('0xb7d171962672b1435c8ae6aa18af832496a4dc58ae9acae010829059a01fe368')"
   ]
  },
  {
   "cell_type": "code",
   "execution_count": 32,
   "metadata": {},
   "outputs": [
    {
     "data": {
      "text/plain": [
       "web3.datastructures.AttributeDict"
      ]
     },
     "execution_count": 32,
     "metadata": {},
     "output_type": "execute_result"
    }
   ],
   "source": [
    "block1['']"
   ]
  },
  {
   "cell_type": "markdown",
   "metadata": {},
   "source": [
    "# Use rdflib and ontospy to create triples"
   ]
  },
  {
   "cell_type": "markdown",
   "metadata": {},
   "source": [
    "# Create triples from stored blocks"
   ]
  },
  {
   "cell_type": "code",
   "execution_count": 1,
   "metadata": {},
   "outputs": [],
   "source": [
    "import ontospy\n",
    "import rdflib\n",
    "from rdflib import Graph\n",
    "from rdflib import Namespace\n",
    "from rdflib.namespace import OWL, RDF, RDFS, FOAF\n",
    "from rdflib import URIRef, BNode, Literal"
   ]
  },
  {
   "cell_type": "code",
   "execution_count": 5,
   "metadata": {
    "collapsed": true
   },
   "outputs": [
    {
     "name": "stderr",
     "output_type": "stream",
     "text": [
      "WARNING:rdflib.term:https://raw.githubusercontent.com/hedugaro/Blondie/master/?xml version=\"1.0\"? does not look like a valid URI, trying to serialize this will break.\n",
      "WARNING:rdflib.term:rdf:RDF xmlns=\"http://www.semanticblockchain.com/Blondie.owl#\"\n",
      "     xml:base=\"http://www.semanticblockchain.com/Blondie.owl\"\n",
      "     xmlns:rdf=\"http://www.w3.org/1999/02/22-rdf-syntax-ns#\"\n",
      "     xmlns:owl=\"http://www.w3.org/2002/07/owl#\"\n",
      "     xmlns:xml=\"http://www.w3.org/XML/1998/namespace\"\n",
      "     xmlns:xsd=\"http://www.w3.org/2001/XMLSchema#\"\n",
      "     xmlns:rdfs=\"http://www.w3.org/2000/01/rdf-schema#\" does not look like a valid URI, trying to serialize this will break.\n",
      "WARNING:rdflib.term:owl:Ontology rdf:about=\"http://www.semanticblockchain.com/Blondie.owl\" does not look like a valid URI, trying to serialize this will break.\n"
     ]
    }
   ],
   "source": [
    "model = ontospy.Ontospy(\"https://raw.githubusercontent.com/hedugaro/Blondie/master/BLONDiE%200.4.owl\")"
   ]
  },
  {
   "cell_type": "code",
   "execution_count": 79,
   "metadata": {},
   "outputs": [
    {
     "data": {
      "text/plain": [
       "rdflib.term.URIRef('http://www.semanticblockchain.com/Blondie.owl#')"
      ]
     },
     "execution_count": 79,
     "metadata": {},
     "output_type": "execute_result"
    }
   ],
   "source": [
    "model.namespaces[0][1]"
   ]
  },
  {
   "cell_type": "code",
   "execution_count": 54,
   "metadata": {},
   "outputs": [],
   "source": [
    "blondieNS = Namespace('http://www.semanticblockchain.com/Blondie.owl#')\n",
    "semanticProjectNS = Namespace('http://example.com/CS-586#')"
   ]
  },
  {
   "cell_type": "code",
   "execution_count": 85,
   "metadata": {},
   "outputs": [],
   "source": [
    "block = semanticProjectNS.block_48889"
   ]
  },
  {
   "cell_type": "code",
   "execution_count": 197,
   "metadata": {},
   "outputs": [],
   "source": [
    "g = Graph()\n",
    "g.bind('CS-586', semanticProjectNS, override=True)\n",
    "g.namespace_manager\n",
    "g.parse(\"individuals.owl\", format=\"turtle\")"
   ]
  },
  {
   "cell_type": "code",
   "execution_count": 114,
   "metadata": {},
   "outputs": [
    {
     "data": {
      "text/plain": [
       "rdflib.term.URIRef('http://xmlns.com/foaf/0.1/knows')"
      ]
     },
     "execution_count": 114,
     "metadata": {},
     "output_type": "execute_result"
    }
   ],
   "source": [
    "FOAF.knows"
   ]
  },
  {
   "cell_type": "code",
   "execution_count": 115,
   "metadata": {},
   "outputs": [
    {
     "data": {
      "text/plain": [
       "rdflib.term.URIRef('http://www.semanticblockchain.com/Blondie.owl#hashPreviousBlockheader')"
      ]
     },
     "execution_count": 115,
     "metadata": {},
     "output_type": "execute_result"
    }
   ],
   "source": [
    "Blondie.hashPreviousBlockheader()"
   ]
  },
  {
   "cell_type": "code",
   "execution_count": 116,
   "metadata": {},
   "outputs": [],
   "source": [
    "g.add( (block, RDF.type, Blondie.isA_BitcoinBlock()) )\n",
    "g.add((block, Blondie.versionBitcoinTransaction(), Literal('0xb7d171962672b1435c8ae6aa18af832496a4dc58ae9acae010829059a01fe368')))"
   ]
  },
  {
   "cell_type": "code",
   "execution_count": 121,
   "metadata": {},
   "outputs": [],
   "source": [
    "g.serialize(destination='output.owl', format='turtle')"
   ]
  },
  {
   "cell_type": "code",
   "execution_count": 120,
   "metadata": {
    "scrolled": true
   },
   "outputs": [
    {
     "data": {
      "text/plain": [
       "[]"
      ]
     },
     "execution_count": 120,
     "metadata": {},
     "output_type": "execute_result"
    }
   ],
   "source": [
    "model.all_properties_annotation"
   ]
  },
  {
   "cell_type": "code",
   "execution_count": 112,
   "metadata": {},
   "outputs": [],
   "source": [
    "class Blondie:\n",
    "    blondieNS = Namespace('http://www.semanticblockchain.com/Blondie.owl#')\n",
    "    \"\"\"CLASSES\"\"\"\n",
    "    def isA_BitcoinBlock():\n",
    "        return blondieNS.BitcoinBlock\n",
    "    def isA_BitcoinBlockheader():\n",
    "        return blondieNS.BitcoinBlockheader\n",
    "    def isA_BitcoinPayload():\n",
    "        return blondieNS.BitcoinPayload\n",
    "    def isA_BitcoinTransaction():\n",
    "        return blondieNS.BitcoinTransaction\n",
    "    def isA_BitcoinTransactionInput():\n",
    "        return blondieNS.BitcoinTransactionInput\n",
    "    def isA_BitcoinTransactionOutput():\n",
    "        return blondieNS.BitcoinTransactionOutput\n",
    "    def isA_Block():\n",
    "        return blondieNS.Block\n",
    "    def isA_Blockheader():\n",
    "        return blondieNS.Blockheader\n",
    "    def isA_ContractCreationEthereumTransaction():\n",
    "        return blondieNS.ContractCreationEthereumTransaction\n",
    "    def isA_ContractEthereumAccount():\n",
    "        return blondieNS.ContractEthereumAccount\n",
    "    def isA_EthereumAccount():\n",
    "        return blondieNS.EthereumAccount\n",
    "    def isA_EthereumBlock():\n",
    "        return blondieNS.EthereumBlock\n",
    "    def isA_EthereumBlockheader():\n",
    "        return blondieNS.EthereumBlockheader\n",
    "    def isA_EthereumOmmerBlockheader():\n",
    "        return blondieNS.EthereumOmmerBlockheader\n",
    "    def isA_EthereumPayload():\n",
    "        return blondieNS.EthereumPayload\n",
    "    def isA_EthereumTransaction():\n",
    "        return blondieNS.EthereumTransaction\n",
    "    def isA_MessageCallEthereumTransaction():\n",
    "        return blondieNS.MessageCallEthereumTransaction\n",
    "    def isA_NormalAccount():\n",
    "        return blondieNS.NormalAccount\n",
    "    def isA_NormalEthereumTransaction():\n",
    "        return blondieNS.NormalEthereumTransaction\n",
    "    def isA_Payload():\n",
    "        return blondieNS.Payload\n",
    "    def isA_Transaction():\n",
    "        return blondieNS.Transaction\n",
    "    \n",
    "    \n",
    "    # Properties\n",
    "    def hasBitcoinBlockheaderBlock():\n",
    "        return URIRef(blondieNS.hasBitcoinBlockheaderBlock)\n",
    "    def hasBlockheaderBlock():\n",
    "        return URIRef(blondieNS.hasBlockheaderBlock)\n",
    "    def hasEthereumBlockheaderBlock():\n",
    "        return URIRef(blondieNS.hasEthereumBlockheaderBlock)\n",
    "    def hasEthereumPayloadBlock():\n",
    "        return URIRef(blondieNS.hasEthereumPayloadBlock)\n",
    "    def hasEthereumTransactionPayload():\n",
    "        return URIRef(blondieNS.hasEthereumTransactionPayload)\n",
    "    def hasPayloadBlock():\n",
    "        return URIRef(blondieNS.hasPayloadBlock)\n",
    "    def hasBitcoinPayloadBlock():\n",
    "        return URIRef(blondieNS.hasBitcoinPayloadBlock)\n",
    "    def hasOmmerEthereumPayload():\n",
    "        return URIRef(blondieNS.hasOmmerEthereumPayload)\n",
    "    def hasTransactionPayload():\n",
    "        return URIRef(blondieNS.hasTransactionPayload)\n",
    "    def hasBitcoinTransactionInput():\n",
    "        return URIRef(blondieNS.hasBitcoinTransactionInput)\n",
    "    def hasBitcoinTransactionOutput():\n",
    "        return URIRef(blondieNS.hasBitcoinTransactionOutput)\n",
    "    \n",
    "    # DataProperties\n",
    "    \n",
    "    def addressEthereumAccount():\n",
    "        return URIRef(blondieNS.addressEthereumAccount)\n",
    "    def balanceEthereumAccount():\n",
    "        return URIRef(blondieNS.balanceEthereumAccount)\n",
    "    def beneficiaryEthereumBlockheader():\n",
    "        return URIRef(blondieNS.beneficiaryEthereumBlockheader)\n",
    "    def codeHashContractEthereumAccount():\n",
    "        return URIRef(blondieNS.codeHashContractEthereumAccount)\n",
    "    def dataMessageCallEthereumTransaction():\n",
    "        return URIRef(blondieNS.dataMessageCallEthereumTransaction)\n",
    "    def difficultyBlockheader():\n",
    "        return URIRef(blondieNS.difficultyBlockheader)\n",
    "    def extraDataEthereumBlockheader():\n",
    "        return URIRef(blondieNS.extraDataEthereumBlockheader)\n",
    "    def gasLimitEthereumBlockheader():\n",
    "        return URIRef(blondieNS.gasLimitEthereumBlockheader)\n",
    "    def gasLimitEthereumTransaction():\n",
    "        return URIRef(blondieNS.gasLimitEthereumTransaction)\n",
    "    def gasPriceEthereumTransaction():\n",
    "        return URIRef(blondieNS.gasPriceEthereumTransaction)\n",
    "    def gasUsedEthereumBlockheader():\n",
    "        return URIRef(blondieNS.gasUsedEthereumBlockheader)\n",
    "    def hashBitcoinTransactionInput():\n",
    "        return URIRef(blondieNS.hashBitcoinTransactionInput)\n",
    "    def hashPreviousBlockheader():\n",
    "        return URIRef(blondieNS.hashPreviousBlockheader)\n",
    "    def heightBlock():\n",
    "        return URIRef(blondieNS.heightBlock)\n",
    "    def indexBitcoinTransactionInput():\n",
    "        return URIRef(blondieNS.indexBitcoinTransactionInput)\n",
    "    def initContractCreationEthereumTransaction():\n",
    "        return URIRef(blondieNS.initContractCreationEthereumTransaction)\n",
    "    def lockTimeBitcoinTransaction():\n",
    "        return URIRef(blondieNS.lockTimeBitcoinTransaction)\n",
    "    def logsBloomEthereumBlockheader():\n",
    "        return URIRef(blondieNS.logsBloomEthereumBlockheader)\n",
    "    def merkleRootBlockheader():\n",
    "        return URIRef(blondieNS.merkleRootBlockheader)\n",
    "    def minerBlock():\n",
    "        return URIRef(blondieNS.minerBlock)\n",
    "    def mixHashEthereumBlockheader():\n",
    "        return URIRef(blondieNS.mixHashEthereumBlockheader)\n",
    "    def nSequenceBitcoinTransactionInput():\n",
    "        return URIRef(blondieNS.nSequenceBitcoinTransactionInput)\n",
    "    def nValueBitcoinTransactionOutput():\n",
    "        return URIRef(blondieNS.nValueBitcoinTransactionOutput)\n",
    "    def nonceBlockheader():\n",
    "        return URIRef(blondieNS.nonceBlockheader)\n",
    "    def nonceEthereumAccount():\n",
    "        return URIRef(blondieNS.nonceEthereumAccount)\n",
    "    def nonceEthereumTransaction():\n",
    "        return URIRef(blondieNS.nonceEthereumTransaction)\n",
    "    def numberAncestorsEthereumBlockheader():\n",
    "        return URIRef(blondieNS.numberAncestorsEthereumBlockheader)\n",
    "    def numberInputTransactionsBitcoinTransaction():\n",
    "        return URIRef(blondieNS.numberInputTransactionsBitcoinTransaction)\n",
    "    def numberOutputTransactionsBitcoinTransaction():\n",
    "        return URIRef(blondieNS.numberOutputTransactionsBitcoinTransaction)\n",
    "    def numberTransactionsBitcoinPayload():\n",
    "        return URIRef(blondieNS.numberTransactionsBitcoinPayload)\n",
    "    def omnersHashEthereumBlockheader():\n",
    "        return URIRef(blondieNS.omnersHashEthereumBlockheader)\n",
    "    def rEthereumTransaction():\n",
    "        return URIRef(blondieNS.rEthereumTransaction)\n",
    "    def receiptsRootEthereumBlockheader():\n",
    "        return URIRef(blondieNS.receiptsRootEthereumBlockheader)\n",
    "    def recipientEthereumTransaction():\n",
    "        return URIRef(blondieNS.recipientEthereumTransaction)\n",
    "    def sEthereumTransaction():\n",
    "        return URIRef(blondieNS.sEthereumTransaction)\n",
    "    def scriptPubkeyBitcoinTransactionOutput():\n",
    "        return URIRef(blondieNS.scriptPubkeyBitcoinTransactionOutput)\n",
    "    def scriptPubkeyLenBitcoinTransactionOutput():\n",
    "        return URIRef(blondieNS.scriptPubkeyLenBitcoinTransactionOutput)\n",
    "    def scriptSigLenBitcoinTransactionInput():\n",
    "        return URIRef(blondieNS.scriptSigLenBitcoinTransactionInput)\n",
    "    def scriptSignBitcoinTransactionInput():\n",
    "        return URIRef(blondieNS.scriptSignBitcoinTransactionInput)\n",
    "    def senderTransaction():\n",
    "        return URIRef(blondieNS.senderTransaction)\n",
    "    def stateBlock():\n",
    "        return URIRef(blondieNS.stateBlock)\n",
    "    def storageRootContractEthereumAccount():\n",
    "        return URIRef(blondieNS.storageRootContractEthereumAccount)\n",
    "    def timestampBlockheader():\n",
    "        return URIRef(blondieNS.timestampBlockheader)\n",
    "    def totalCoinsBlock():\n",
    "        return URIRef(blondieNS.totalCoinsBlock)\n",
    "    def totalTransactionsBlock():\n",
    "        return URIRef(blondieNS.totalTransactionsBlock)\n",
    "    def transactionRootEthereumBlockheader():\n",
    "        return URIRef(blondieNS.transactionRootEthereumBlockheader)\n",
    "    def vEthereumTransaction():\n",
    "        return URIRef(blondieNS.vEthereumTransaction)\n",
    "    def valueEthereumTransaction():\n",
    "        return URIRef(blondieNS.valueEthereumTransaction)\n",
    "    def versionBitcoinBlockheader():\n",
    "        return URIRef(blondieNS.versionBitcoinBlockheader)\n",
    "    def versionBitcoinTransaction():\n",
    "        return URIRef(blondieNS.versionBitcoinTransaction)\n"
   ]
  },
  {
   "cell_type": "code",
   "execution_count": null,
   "metadata": {},
   "outputs": [],
   "source": []
  }
 ],
 "metadata": {
  "kernelspec": {
   "display_name": "Python 3",
   "language": "python",
   "name": "python3"
  },
  "language_info": {
   "codemirror_mode": {
    "name": "ipython",
    "version": 3
   },
   "file_extension": ".py",
   "mimetype": "text/x-python",
   "name": "python",
   "nbconvert_exporter": "python",
   "pygments_lexer": "ipython3",
   "version": "3.6.5"
  }
 },
 "nbformat": 4,
 "nbformat_minor": 2
}
